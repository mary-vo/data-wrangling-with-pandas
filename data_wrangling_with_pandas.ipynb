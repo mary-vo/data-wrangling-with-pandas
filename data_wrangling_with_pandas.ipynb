{
 "cells": [
  {
   "cell_type": "code",
   "execution_count": 6,
   "metadata": {},
   "outputs": [],
   "source": [
    "import pandas as pd\n",
    "import numpy as np"
   ]
  },
  {
   "attachments": {},
   "cell_type": "markdown",
   "metadata": {},
   "source": [
    "## Series"
   ]
  },
  {
   "cell_type": "code",
   "execution_count": null,
   "metadata": {},
   "outputs": [],
   "source": [
    "nums = pd.Series([1, 2, 3]) # list\n",
    "nums.head() # to print series\n",
    "print(nums[2]) # print value at index 2"
   ]
  },
  {
   "cell_type": "code",
   "execution_count": 2,
   "metadata": {},
   "outputs": [
    {
     "data": {
      "text/plain": [
       "a       1\n",
       "11    NaN\n",
       "12      3\n",
       "dtype: object"
      ]
     },
     "execution_count": 2,
     "metadata": {},
     "output_type": "execute_result"
    }
   ],
   "source": [
    "custom_index = pd.Series(['1', float('NaN'), 3], index=['a', 11, 12]) # NaN means not a number\n",
    "custom_index.head()"
   ]
  },
  {
   "attachments": {},
   "cell_type": "markdown",
   "metadata": {},
   "source": [
    "## DataFrame"
   ]
  },
  {
   "cell_type": "code",
   "execution_count": 3,
   "metadata": {},
   "outputs": [
    {
     "name": "stdout",
     "output_type": "stream",
     "text": [
      "  product  unit_sold\n",
      "1  e-book       2000\n",
      "2  plants       6000\n",
      "3  Pencil       3000\n"
     ]
    }
   ],
   "source": [
    "# using list\n",
    "product_data=[['e-book', 2000], ['plants', 6000], ['Pencil', 3000]] # 2d list, similar to 2d array\n",
    "indexes=[1,2,3]\n",
    "columns_name=['product', 'unit_sold']\n",
    "product_df = pd.DataFrame(data=product_data, index=indexes, columns=columns_name)\n",
    "print(product_df)"
   ]
  },
  {
   "cell_type": "code",
   "execution_count": 4,
   "metadata": {},
   "outputs": [
    {
     "name": "stdout",
     "output_type": "stream",
     "text": [
      "  product  unit_sold\n",
      "0  e-book       2000\n",
      "1  plants       5000\n",
      "2  Pencil       3000\n"
     ]
    }
   ],
   "source": [
    "# using dictionaries\n",
    "product_data={'product': ['e-book', 'plants', 'Pencil'], 'unit_sold': [2000, 5000, 3000]}\n",
    "product_df = pd.DataFrame(data=product_data)\n",
    "print(product_df)\n"
   ]
  },
  {
   "cell_type": "code",
   "execution_count": 9,
   "metadata": {},
   "outputs": [
    {
     "name": "stdout",
     "output_type": "stream",
     "text": [
      "  product unit_sold\n",
      "1  E-book      2000\n",
      "2  Plants      6000\n",
      "3  Pencil      3000\n"
     ]
    }
   ],
   "source": [
    "# using numpy array\n",
    "products = np.array([['','product','unit_sold'], \n",
    "                     [1, 'E-book', 2000],\n",
    "                     [2, 'Plants', 6000], \n",
    "                     [3, 'Pencil', 3000]])\n",
    "product_pf = pd.DataFrame(data=products[1:,1:], # [1:,1:] from first row till end, from first column till end\n",
    "                          index=products[1:,0], # [1:,0] from first row till end, only first column\n",
    "                          columns=products[0,1:]) # [1:,0] only first row, form first column till end\n",
    "print(product_pf) # output is same as of first case"
   ]
  },
  {
   "attachments": {},
   "cell_type": "markdown",
   "metadata": {},
   "source": [
    "## Index and Labels"
   ]
  },
  {
   "cell_type": "code",
   "execution_count": 11,
   "metadata": {},
   "outputs": [
    {
     "data": {
      "text/plain": [
       "product      Pencil\n",
       "unit_sold      3000\n",
       "Name: 2, dtype: object"
      ]
     },
     "execution_count": 11,
     "metadata": {},
     "output_type": "execute_result"
    }
   ],
   "source": [
    "row = product_df.iloc[2] # fetch third row\n",
    "row\n",
    "# rows"
   ]
  },
  {
   "cell_type": "code",
   "execution_count": 12,
   "metadata": {},
   "outputs": [
    {
     "data": {
      "text/html": [
       "<div>\n",
       "<style scoped>\n",
       "    .dataframe tbody tr th:only-of-type {\n",
       "        vertical-align: middle;\n",
       "    }\n",
       "\n",
       "    .dataframe tbody tr th {\n",
       "        vertical-align: top;\n",
       "    }\n",
       "\n",
       "    .dataframe thead th {\n",
       "        text-align: right;\n",
       "    }\n",
       "</style>\n",
       "<table border=\"1\" class=\"dataframe\">\n",
       "  <thead>\n",
       "    <tr style=\"text-align: right;\">\n",
       "      <th></th>\n",
       "      <th>product</th>\n",
       "      <th>unit_sold</th>\n",
       "    </tr>\n",
       "  </thead>\n",
       "  <tbody>\n",
       "    <tr>\n",
       "      <th>0</th>\n",
       "      <td>e-book</td>\n",
       "      <td>2000</td>\n",
       "    </tr>\n",
       "    <tr>\n",
       "      <th>1</th>\n",
       "      <td>plants</td>\n",
       "      <td>5000</td>\n",
       "    </tr>\n",
       "  </tbody>\n",
       "</table>\n",
       "</div>"
      ],
      "text/plain": [
       "  product  unit_sold\n",
       "0  e-book       2000\n",
       "1  plants       5000"
      ]
     },
     "execution_count": 12,
     "metadata": {},
     "output_type": "execute_result"
    }
   ],
   "source": [
    "rows = product_df.iloc[0:2] # fetch rows from first till third but not third\n",
    "rows"
   ]
  },
  {
   "cell_type": "code",
   "execution_count": 17,
   "metadata": {},
   "outputs": [
    {
     "data": {
      "text/plain": [
       "0    False\n",
       "1     True\n",
       "2     True\n",
       "Name: unit_sold, dtype: bool"
      ]
     },
     "execution_count": 17,
     "metadata": {},
     "output_type": "execute_result"
    }
   ],
   "source": [
    "product_df['product'] # return column as series object"
   ]
  },
  {
   "cell_type": "code",
   "execution_count": null,
   "metadata": {},
   "outputs": [],
   "source": [
    "gt_products = product_df['unit_sold'] > 2500 # return a series object of bool, for values greater than 2500\n",
    "gt_products"
   ]
  },
  {
   "cell_type": "code",
   "execution_count": 19,
   "metadata": {},
   "outputs": [
    {
     "data": {
      "text/plain": [
       "0    2200.0\n",
       "1    5500.0\n",
       "2    3300.0\n",
       "Name: next_target, dtype: float64"
      ]
     },
     "execution_count": 19,
     "metadata": {},
     "output_type": "execute_result"
    }
   ],
   "source": [
    "# calculate next month target by increasing 10% and store the resultant series object in product_df under next_target column\n",
    "product_df['next_target'] = product_df['unit_sold'] + ( product_df['unit_sold'] * 10)/100\n",
    "product_df['next_target']"
   ]
  },
  {
   "attachments": {},
   "cell_type": "markdown",
   "metadata": {},
   "source": [
    "## Import or Export Data"
   ]
  },
  {
   "cell_type": "code",
   "execution_count": 21,
   "metadata": {},
   "outputs": [
    {
     "name": "stdout",
     "output_type": "stream",
     "text": [
      "   YEAR GoogleKnowlege_Occupation     Show   Group    Raw_Guest_List\n",
      "0  1999                     actor  1/11/99  Acting    Michael J. Fox\n",
      "1  1999                  Comedian  1/12/99  Comedy   Sandra Bernhard\n",
      "2  1999        television actress  1/13/99  Acting     Tracey Ullman\n",
      "3  1999              film actress  1/14/99  Acting  Gillian Anderson\n",
      "4  1999                     actor  1/18/99  Acting  David Alan Grier\n"
     ]
    }
   ],
   "source": [
    "guest_list_df = pd.read_csv('daily_show_guests.csv') # separator can also be changed\n",
    "print(guest_list_df.head(5))"
   ]
  },
  {
   "attachments": {},
   "cell_type": "markdown",
   "metadata": {},
   "source": [
    "## Data Manipulation"
   ]
  },
  {
   "cell_type": "code",
   "execution_count": 23,
   "metadata": {},
   "outputs": [
    {
     "data": {
      "text/html": [
       "<div>\n",
       "<style scoped>\n",
       "    .dataframe tbody tr th:only-of-type {\n",
       "        vertical-align: middle;\n",
       "    }\n",
       "\n",
       "    .dataframe tbody tr th {\n",
       "        vertical-align: top;\n",
       "    }\n",
       "\n",
       "    .dataframe thead th {\n",
       "        text-align: right;\n",
       "    }\n",
       "</style>\n",
       "<table border=\"1\" class=\"dataframe\">\n",
       "  <thead>\n",
       "    <tr style=\"text-align: right;\">\n",
       "      <th></th>\n",
       "      <th>YEAR</th>\n",
       "      <th>GoogleKnowlege_Occupation</th>\n",
       "      <th>Show</th>\n",
       "      <th>Group</th>\n",
       "      <th>Raw_Guest_List</th>\n",
       "    </tr>\n",
       "  </thead>\n",
       "  <tbody>\n",
       "    <tr>\n",
       "      <th>2558</th>\n",
       "      <td>2014</td>\n",
       "      <td>writer</td>\n",
       "      <td>7/14/14</td>\n",
       "      <td>Media</td>\n",
       "      <td>Dahlia Lithwick</td>\n",
       "    </tr>\n",
       "    <tr>\n",
       "      <th>473</th>\n",
       "      <td>2001</td>\n",
       "      <td>writer</td>\n",
       "      <td>8/13/01</td>\n",
       "      <td>Media</td>\n",
       "      <td>David Rakoff</td>\n",
       "    </tr>\n",
       "    <tr>\n",
       "      <th>319</th>\n",
       "      <td>2000</td>\n",
       "      <td>writer</td>\n",
       "      <td>8/4/00</td>\n",
       "      <td>Media</td>\n",
       "      <td>Robert Reich and Ben Stein</td>\n",
       "    </tr>\n",
       "    <tr>\n",
       "      <th>1504</th>\n",
       "      <td>2008</td>\n",
       "      <td>writer</td>\n",
       "      <td>2/14/08</td>\n",
       "      <td>Media</td>\n",
       "      <td>Lee Siegel</td>\n",
       "    </tr>\n",
       "    <tr>\n",
       "      <th>306</th>\n",
       "      <td>2000</td>\n",
       "      <td>writer</td>\n",
       "      <td>7/25/00</td>\n",
       "      <td>Media</td>\n",
       "      <td>Joe Eszterhas</td>\n",
       "    </tr>\n",
       "    <tr>\n",
       "      <th>...</th>\n",
       "      <td>...</td>\n",
       "      <td>...</td>\n",
       "      <td>...</td>\n",
       "      <td>...</td>\n",
       "      <td>...</td>\n",
       "    </tr>\n",
       "    <tr>\n",
       "      <th>2145</th>\n",
       "      <td>2012</td>\n",
       "      <td>NaN</td>\n",
       "      <td>11/6/12</td>\n",
       "      <td>NaN</td>\n",
       "      <td>Election Night: This Ends Now</td>\n",
       "    </tr>\n",
       "    <tr>\n",
       "      <th>2175</th>\n",
       "      <td>2012</td>\n",
       "      <td>NaN</td>\n",
       "      <td>3/15/12</td>\n",
       "      <td>NaN</td>\n",
       "      <td>NaN</td>\n",
       "    </tr>\n",
       "    <tr>\n",
       "      <th>2248</th>\n",
       "      <td>2012</td>\n",
       "      <td>NaN</td>\n",
       "      <td>8/31/12</td>\n",
       "      <td>NaN</td>\n",
       "      <td>none</td>\n",
       "    </tr>\n",
       "    <tr>\n",
       "      <th>2263</th>\n",
       "      <td>2012</td>\n",
       "      <td>NaN</td>\n",
       "      <td>9/7/12</td>\n",
       "      <td>NaN</td>\n",
       "      <td>none</td>\n",
       "    </tr>\n",
       "    <tr>\n",
       "      <th>2393</th>\n",
       "      <td>2013</td>\n",
       "      <td>NaN</td>\n",
       "      <td>6/6/13</td>\n",
       "      <td>NaN</td>\n",
       "      <td>No Guest</td>\n",
       "    </tr>\n",
       "  </tbody>\n",
       "</table>\n",
       "<p>2693 rows × 5 columns</p>\n",
       "</div>"
      ],
      "text/plain": [
       "      YEAR GoogleKnowlege_Occupation     Show  Group   \n",
       "2558  2014                    writer  7/14/14  Media  \\\n",
       "473   2001                    writer  8/13/01  Media   \n",
       "319   2000                    writer   8/4/00  Media   \n",
       "1504  2008                    writer  2/14/08  Media   \n",
       "306   2000                    writer  7/25/00  Media   \n",
       "...    ...                       ...      ...    ...   \n",
       "2145  2012                       NaN  11/6/12    NaN   \n",
       "2175  2012                       NaN  3/15/12    NaN   \n",
       "2248  2012                       NaN  8/31/12    NaN   \n",
       "2263  2012                       NaN   9/7/12    NaN   \n",
       "2393  2013                       NaN   6/6/13    NaN   \n",
       "\n",
       "                     Raw_Guest_List  \n",
       "2558                Dahlia Lithwick  \n",
       "473                    David Rakoff  \n",
       "319      Robert Reich and Ben Stein  \n",
       "1504                     Lee Siegel  \n",
       "306                   Joe Eszterhas  \n",
       "...                             ...  \n",
       "2145  Election Night: This Ends Now  \n",
       "2175                            NaN  \n",
       "2248                           none  \n",
       "2263                           none  \n",
       "2393                       No Guest  \n",
       "\n",
       "[2693 rows x 5 columns]"
      ]
     },
     "execution_count": 23,
     "metadata": {},
     "output_type": "execute_result"
    }
   ],
   "source": [
    "# sorting\n",
    "sorted_guest_df = guest_list_df.sort_values('GoogleKnowlege_Occupation', # sort by column\n",
    "                                 ascending=False, # enable descending order\n",
    "                                 kind='heapsort', #sorting algorithm\n",
    "                                 na_position='last') # keep NaN value at last\n",
    "sorted_guest_df"
   ]
  },
  {
   "cell_type": "code",
   "execution_count": 26,
   "metadata": {},
   "outputs": [
    {
     "data": {
      "text/html": [
       "<div>\n",
       "<style scoped>\n",
       "    .dataframe tbody tr th:only-of-type {\n",
       "        vertical-align: middle;\n",
       "    }\n",
       "\n",
       "    .dataframe tbody tr th {\n",
       "        vertical-align: top;\n",
       "    }\n",
       "\n",
       "    .dataframe thead th {\n",
       "        text-align: right;\n",
       "    }\n",
       "</style>\n",
       "<table border=\"1\" class=\"dataframe\">\n",
       "  <thead>\n",
       "    <tr style=\"text-align: right;\">\n",
       "      <th></th>\n",
       "      <th>YEAR</th>\n",
       "      <th>GoogleKnowlege_Occupation</th>\n",
       "      <th>Show</th>\n",
       "      <th>Group</th>\n",
       "      <th>Raw_Guest_List</th>\n",
       "      <th>_merge</th>\n",
       "    </tr>\n",
       "  </thead>\n",
       "  <tbody>\n",
       "    <tr>\n",
       "      <th>0</th>\n",
       "      <td>1999</td>\n",
       "      <td>actor</td>\n",
       "      <td>1/11/99</td>\n",
       "      <td>Acting</td>\n",
       "      <td>Michael J. Fox</td>\n",
       "      <td>left_only</td>\n",
       "    </tr>\n",
       "    <tr>\n",
       "      <th>1</th>\n",
       "      <td>1999</td>\n",
       "      <td>Comedian</td>\n",
       "      <td>1/12/99</td>\n",
       "      <td>Comedy</td>\n",
       "      <td>Sandra Bernhard</td>\n",
       "      <td>left_only</td>\n",
       "    </tr>\n",
       "    <tr>\n",
       "      <th>2</th>\n",
       "      <td>1999</td>\n",
       "      <td>television actress</td>\n",
       "      <td>1/13/99</td>\n",
       "      <td>Acting</td>\n",
       "      <td>Tracey Ullman</td>\n",
       "      <td>left_only</td>\n",
       "    </tr>\n",
       "    <tr>\n",
       "      <th>3</th>\n",
       "      <td>2015</td>\n",
       "      <td>stand-up comedian</td>\n",
       "      <td>8/3/15</td>\n",
       "      <td>Comedy</td>\n",
       "      <td>Amy Schumer</td>\n",
       "      <td>right_only</td>\n",
       "    </tr>\n",
       "    <tr>\n",
       "      <th>4</th>\n",
       "      <td>2015</td>\n",
       "      <td>actor</td>\n",
       "      <td>8/4/15</td>\n",
       "      <td>Acting</td>\n",
       "      <td>Denis Leary</td>\n",
       "      <td>right_only</td>\n",
       "    </tr>\n",
       "    <tr>\n",
       "      <th>5</th>\n",
       "      <td>2015</td>\n",
       "      <td>comedian</td>\n",
       "      <td>8/5/15</td>\n",
       "      <td>Comedy</td>\n",
       "      <td>Louis C.K.</td>\n",
       "      <td>right_only</td>\n",
       "    </tr>\n",
       "  </tbody>\n",
       "</table>\n",
       "</div>"
      ],
      "text/plain": [
       "   YEAR GoogleKnowlege_Occupation     Show   Group   Raw_Guest_List   \n",
       "0  1999                     actor  1/11/99  Acting   Michael J. Fox  \\\n",
       "1  1999                  Comedian  1/12/99  Comedy  Sandra Bernhard   \n",
       "2  1999        television actress  1/13/99  Acting    Tracey Ullman   \n",
       "3  2015         stand-up comedian   8/3/15  Comedy      Amy Schumer   \n",
       "4  2015                     actor   8/4/15  Acting      Denis Leary   \n",
       "5  2015                  comedian   8/5/15  Comedy       Louis C.K.   \n",
       "\n",
       "       _merge  \n",
       "0   left_only  \n",
       "1   left_only  \n",
       "2   left_only  \n",
       "3  right_only  \n",
       "4  right_only  \n",
       "5  right_only  "
      ]
     },
     "execution_count": 26,
     "metadata": {},
     "output_type": "execute_result"
    }
   ],
   "source": [
    "# Merge\n",
    "merge_guest_df = pd.merge(guest_list_df.head(3),\n",
    "                           guest_list_df.tail(3),\n",
    "                           how='outer',\n",
    "                           indicator = True)\n",
    "merge_guest_df\n"
   ]
  },
  {
   "cell_type": "code",
   "execution_count": 25,
   "metadata": {},
   "outputs": [],
   "source": [
    "# concatenate\n",
    "top_df = guest_list_df.head(3)\n",
    "bottom_df = guest_list_df.tail(3)\n",
    "combined_guest_df = pd.concat( [top_df, bottom_df] )"
   ]
  },
  {
   "cell_type": "code",
   "execution_count": 27,
   "metadata": {},
   "outputs": [
    {
     "name": "stdout",
     "output_type": "stream",
     "text": [
      "      YEAR GoogleKnowlege_Occupation     Show   Group    Raw_Guest_List\n",
      "0     1999                     actor  1/11/99  Acting    Michael J. Fox\n",
      "2     1999        television actress  1/13/99  Acting     Tracey Ullman\n",
      "3     1999              film actress  1/14/99  Acting  Gillian Anderson\n",
      "4     1999                     actor  1/18/99  Acting  David Alan Grier\n",
      "5     1999                     actor  1/19/99  Acting   William Baldwin\n",
      "...    ...                       ...      ...     ...               ...\n",
      "2679  2015                     actor   6/9/15  Acting     Nick Offerman\n",
      "2682  2015                     actor  7/20/15  Acting         Paul Rudd\n",
      "2684  2015                     actor  7/22/15  Acting   Jake Gyllenhaal\n",
      "2687  2015                     actor  7/28/15  Acting        Tom Cruise\n",
      "2691  2015                     actor   8/4/15  Acting       Denis Leary\n",
      "\n",
      "[930 rows x 5 columns]\n"
     ]
    }
   ],
   "source": [
    "# grouping\n",
    "guest_group = guest_list_df.groupby('Group')\n",
    "print(guest_group.get_group('Acting'))"
   ]
  },
  {
   "cell_type": "code",
   "execution_count": 31,
   "metadata": {},
   "outputs": [
    {
     "data": {
      "text/html": [
       "<div>\n",
       "<style scoped>\n",
       "    .dataframe tbody tr th:only-of-type {\n",
       "        vertical-align: middle;\n",
       "    }\n",
       "\n",
       "    .dataframe tbody tr th {\n",
       "        vertical-align: top;\n",
       "    }\n",
       "\n",
       "    .dataframe thead th {\n",
       "        text-align: right;\n",
       "    }\n",
       "</style>\n",
       "<table border=\"1\" class=\"dataframe\">\n",
       "  <thead>\n",
       "    <tr style=\"text-align: right;\">\n",
       "      <th></th>\n",
       "      <th>YEAR</th>\n",
       "      <th>GoogleKnowlege_Occupation</th>\n",
       "      <th>Show</th>\n",
       "      <th>Occupation</th>\n",
       "      <th>Raw_Guest_List</th>\n",
       "    </tr>\n",
       "  </thead>\n",
       "  <tbody>\n",
       "    <tr>\n",
       "      <th>0</th>\n",
       "      <td>1999</td>\n",
       "      <td>actor</td>\n",
       "      <td>1/11/99</td>\n",
       "      <td>Acting</td>\n",
       "      <td>Michael J. Fox</td>\n",
       "    </tr>\n",
       "    <tr>\n",
       "      <th>1</th>\n",
       "      <td>1999</td>\n",
       "      <td>Comedian</td>\n",
       "      <td>1/12/99</td>\n",
       "      <td>Comedy</td>\n",
       "      <td>Sandra Bernhard</td>\n",
       "    </tr>\n",
       "    <tr>\n",
       "      <th>2</th>\n",
       "      <td>1999</td>\n",
       "      <td>television actress</td>\n",
       "      <td>1/13/99</td>\n",
       "      <td>Acting</td>\n",
       "      <td>Tracey Ullman</td>\n",
       "    </tr>\n",
       "    <tr>\n",
       "      <th>3</th>\n",
       "      <td>1999</td>\n",
       "      <td>film actress</td>\n",
       "      <td>1/14/99</td>\n",
       "      <td>Acting</td>\n",
       "      <td>Gillian Anderson</td>\n",
       "    </tr>\n",
       "    <tr>\n",
       "      <th>4</th>\n",
       "      <td>1999</td>\n",
       "      <td>actor</td>\n",
       "      <td>1/18/99</td>\n",
       "      <td>Acting</td>\n",
       "      <td>David Alan Grier</td>\n",
       "    </tr>\n",
       "    <tr>\n",
       "      <th>...</th>\n",
       "      <td>...</td>\n",
       "      <td>...</td>\n",
       "      <td>...</td>\n",
       "      <td>...</td>\n",
       "      <td>...</td>\n",
       "    </tr>\n",
       "    <tr>\n",
       "      <th>2688</th>\n",
       "      <td>2015</td>\n",
       "      <td>biographer</td>\n",
       "      <td>7/29/15</td>\n",
       "      <td>Media</td>\n",
       "      <td>Doris Kearns Goodwin</td>\n",
       "    </tr>\n",
       "    <tr>\n",
       "      <th>2689</th>\n",
       "      <td>2015</td>\n",
       "      <td>director</td>\n",
       "      <td>7/30/15</td>\n",
       "      <td>Media</td>\n",
       "      <td>J. J. Abrams</td>\n",
       "    </tr>\n",
       "    <tr>\n",
       "      <th>2690</th>\n",
       "      <td>2015</td>\n",
       "      <td>stand-up comedian</td>\n",
       "      <td>8/3/15</td>\n",
       "      <td>Comedy</td>\n",
       "      <td>Amy Schumer</td>\n",
       "    </tr>\n",
       "    <tr>\n",
       "      <th>2691</th>\n",
       "      <td>2015</td>\n",
       "      <td>actor</td>\n",
       "      <td>8/4/15</td>\n",
       "      <td>Acting</td>\n",
       "      <td>Denis Leary</td>\n",
       "    </tr>\n",
       "    <tr>\n",
       "      <th>2692</th>\n",
       "      <td>2015</td>\n",
       "      <td>comedian</td>\n",
       "      <td>8/5/15</td>\n",
       "      <td>Comedy</td>\n",
       "      <td>Louis C.K.</td>\n",
       "    </tr>\n",
       "  </tbody>\n",
       "</table>\n",
       "<p>2693 rows × 5 columns</p>\n",
       "</div>"
      ],
      "text/plain": [
       "      YEAR GoogleKnowlege_Occupation     Show Occupation        Raw_Guest_List\n",
       "0     1999                     actor  1/11/99     Acting        Michael J. Fox\n",
       "1     1999                  Comedian  1/12/99     Comedy       Sandra Bernhard\n",
       "2     1999        television actress  1/13/99     Acting         Tracey Ullman\n",
       "3     1999              film actress  1/14/99     Acting      Gillian Anderson\n",
       "4     1999                     actor  1/18/99     Acting      David Alan Grier\n",
       "...    ...                       ...      ...        ...                   ...\n",
       "2688  2015                biographer  7/29/15      Media  Doris Kearns Goodwin\n",
       "2689  2015                  director  7/30/15      Media          J. J. Abrams\n",
       "2690  2015         stand-up comedian   8/3/15     Comedy           Amy Schumer\n",
       "2691  2015                     actor   8/4/15     Acting           Denis Leary\n",
       "2692  2015                  comedian   8/5/15     Comedy            Louis C.K.\n",
       "\n",
       "[2693 rows x 5 columns]"
      ]
     },
     "execution_count": 31,
     "metadata": {},
     "output_type": "execute_result"
    }
   ],
   "source": [
    "# renaming\n",
    "guest_list_rename_df = guest_list_df.rename(columns={'Group':'Occupation'})\n",
    "guest_list_rename_df"
   ]
  },
  {
   "attachments": {},
   "cell_type": "markdown",
   "metadata": {},
   "source": [
    "## Data Cleaning"
   ]
  },
  {
   "cell_type": "code",
   "execution_count": 33,
   "metadata": {},
   "outputs": [
    {
     "data": {
      "text/plain": [
       "True"
      ]
     },
     "execution_count": 33,
     "metadata": {},
     "output_type": "execute_result"
    }
   ],
   "source": [
    "# Look for missing data\n",
    "guest_list_df.isnull().values.any() # verify if any value is null"
   ]
  },
  {
   "cell_type": "code",
   "execution_count": 34,
   "metadata": {},
   "outputs": [
    {
     "data": {
      "text/plain": [
       "YEAR                          0\n",
       "GoogleKnowlege_Occupation    26\n",
       "Show                          0\n",
       "Group                        31\n",
       "Raw_Guest_List                4\n",
       "dtype: int64"
      ]
     },
     "execution_count": 34,
     "metadata": {},
     "output_type": "execute_result"
    }
   ],
   "source": [
    "guest_list_df.isnull().sum() # display summary of null values per column"
   ]
  },
  {
   "cell_type": "code",
   "execution_count": 40,
   "metadata": {},
   "outputs": [
    {
     "data": {
      "text/html": [
       "<div>\n",
       "<style scoped>\n",
       "    .dataframe tbody tr th:only-of-type {\n",
       "        vertical-align: middle;\n",
       "    }\n",
       "\n",
       "    .dataframe tbody tr th {\n",
       "        vertical-align: top;\n",
       "    }\n",
       "\n",
       "    .dataframe thead th {\n",
       "        text-align: right;\n",
       "    }\n",
       "</style>\n",
       "<table border=\"1\" class=\"dataframe\">\n",
       "  <thead>\n",
       "    <tr style=\"text-align: right;\">\n",
       "      <th></th>\n",
       "      <th>product</th>\n",
       "      <th>unit_sold</th>\n",
       "    </tr>\n",
       "  </thead>\n",
       "  <tbody>\n",
       "    <tr>\n",
       "      <th>0</th>\n",
       "      <td>E-book</td>\n",
       "      <td>12.0</td>\n",
       "    </tr>\n",
       "    <tr>\n",
       "      <th>1</th>\n",
       "      <td>Plants</td>\n",
       "      <td>0.0</td>\n",
       "    </tr>\n",
       "  </tbody>\n",
       "</table>\n",
       "</div>"
      ],
      "text/plain": [
       "  product  unit_sold\n",
       "0  E-book       12.0\n",
       "1  Plants        0.0"
      ]
     },
     "execution_count": 40,
     "metadata": {},
     "output_type": "execute_result"
    }
   ],
   "source": [
    "# reolace NA and NaN values with desired value\n",
    "product_data={'product': ['E-book', 'Plants'], 'unit_sold': [12, np.NaN]} # need to import numpy as np\n",
    "product_df = pd.DataFrame(data=product_data)\n",
    "product_df.fillna(0, inplace=True) # tell fillna what to replace na with, here it is 0\n",
    "product_df"
   ]
  },
  {
   "cell_type": "code",
   "execution_count": 41,
   "metadata": {},
   "outputs": [
    {
     "data": {
      "text/html": [
       "<div>\n",
       "<style scoped>\n",
       "    .dataframe tbody tr th:only-of-type {\n",
       "        vertical-align: middle;\n",
       "    }\n",
       "\n",
       "    .dataframe tbody tr th {\n",
       "        vertical-align: top;\n",
       "    }\n",
       "\n",
       "    .dataframe thead th {\n",
       "        text-align: right;\n",
       "    }\n",
       "</style>\n",
       "<table border=\"1\" class=\"dataframe\">\n",
       "  <thead>\n",
       "    <tr style=\"text-align: right;\">\n",
       "      <th></th>\n",
       "      <th>Name</th>\n",
       "    </tr>\n",
       "  </thead>\n",
       "  <tbody>\n",
       "    <tr>\n",
       "      <th>2</th>\n",
       "      <td>Pavneet</td>\n",
       "    </tr>\n",
       "  </tbody>\n",
       "</table>\n",
       "</div>"
      ],
      "text/plain": [
       "      Name\n",
       "2  Pavneet"
      ]
     },
     "execution_count": 41,
     "metadata": {},
     "output_type": "execute_result"
    }
   ],
   "source": [
    "# drop duplications\n",
    "df = pd.DataFrame({'Name':['Pavneet','Pavneet']}, index=[1,2])\n",
    "df.drop_duplicates(subset='Name',keep='last')"
   ]
  },
  {
   "attachments": {},
   "cell_type": "markdown",
   "metadata": {},
   "source": [
    "## Data Analysis"
   ]
  },
  {
   "cell_type": "code",
   "execution_count": 42,
   "metadata": {},
   "outputs": [
    {
     "data": {
      "text/html": [
       "<div>\n",
       "<style scoped>\n",
       "    .dataframe tbody tr th:only-of-type {\n",
       "        vertical-align: middle;\n",
       "    }\n",
       "\n",
       "    .dataframe tbody tr th {\n",
       "        vertical-align: top;\n",
       "    }\n",
       "\n",
       "    .dataframe thead th {\n",
       "        text-align: right;\n",
       "    }\n",
       "</style>\n",
       "<table border=\"1\" class=\"dataframe\">\n",
       "  <thead>\n",
       "    <tr style=\"text-align: right;\">\n",
       "      <th></th>\n",
       "      <th>unit_sold</th>\n",
       "      <th>types</th>\n",
       "    </tr>\n",
       "  </thead>\n",
       "  <tbody>\n",
       "    <tr>\n",
       "      <th>count</th>\n",
       "      <td>2.000000</td>\n",
       "      <td>2.000000</td>\n",
       "    </tr>\n",
       "    <tr>\n",
       "      <th>mean</th>\n",
       "      <td>3500.000000</td>\n",
       "      <td>500.000000</td>\n",
       "    </tr>\n",
       "    <tr>\n",
       "      <th>std</th>\n",
       "      <td>2121.320344</td>\n",
       "      <td>424.264069</td>\n",
       "    </tr>\n",
       "    <tr>\n",
       "      <th>min</th>\n",
       "      <td>2000.000000</td>\n",
       "      <td>200.000000</td>\n",
       "    </tr>\n",
       "    <tr>\n",
       "      <th>25%</th>\n",
       "      <td>2750.000000</td>\n",
       "      <td>350.000000</td>\n",
       "    </tr>\n",
       "    <tr>\n",
       "      <th>50%</th>\n",
       "      <td>3500.000000</td>\n",
       "      <td>500.000000</td>\n",
       "    </tr>\n",
       "    <tr>\n",
       "      <th>75%</th>\n",
       "      <td>4250.000000</td>\n",
       "      <td>650.000000</td>\n",
       "    </tr>\n",
       "    <tr>\n",
       "      <th>max</th>\n",
       "      <td>5000.000000</td>\n",
       "      <td>800.000000</td>\n",
       "    </tr>\n",
       "  </tbody>\n",
       "</table>\n",
       "</div>"
      ],
      "text/plain": [
       "         unit_sold       types\n",
       "count     2.000000    2.000000\n",
       "mean   3500.000000  500.000000\n",
       "std    2121.320344  424.264069\n",
       "min    2000.000000  200.000000\n",
       "25%    2750.000000  350.000000\n",
       "50%    3500.000000  500.000000\n",
       "75%    4250.000000  650.000000\n",
       "max    5000.000000  800.000000"
      ]
     },
     "execution_count": 42,
     "metadata": {},
     "output_type": "execute_result"
    }
   ],
   "source": [
    "product_df = pd.DataFrame(data={'product': ['E-book', 'Plants'],\n",
    "                                'unit_sold': [2000, 5000],\n",
    "                                'types': [800, 200]})\n",
    "product_df.describe()\n"
   ]
  },
  {
   "cell_type": "code",
   "execution_count": 43,
   "metadata": {},
   "outputs": [
    {
     "data": {
      "text/plain": [
       "3500.0"
      ]
     },
     "execution_count": 43,
     "metadata": {},
     "output_type": "execute_result"
    }
   ],
   "source": [
    "product_df['unit_sold'].mean()"
   ]
  },
  {
   "cell_type": "code",
   "execution_count": 51,
   "metadata": {},
   "outputs": [
    {
     "data": {
      "text/html": [
       "<div>\n",
       "<style scoped>\n",
       "    .dataframe tbody tr th:only-of-type {\n",
       "        vertical-align: middle;\n",
       "    }\n",
       "\n",
       "    .dataframe tbody tr th {\n",
       "        vertical-align: top;\n",
       "    }\n",
       "\n",
       "    .dataframe thead th {\n",
       "        text-align: right;\n",
       "    }\n",
       "</style>\n",
       "<table border=\"1\" class=\"dataframe\">\n",
       "  <thead>\n",
       "    <tr style=\"text-align: right;\">\n",
       "      <th></th>\n",
       "      <th>product</th>\n",
       "      <th>unit_sold</th>\n",
       "      <th>types</th>\n",
       "    </tr>\n",
       "  </thead>\n",
       "  <tbody>\n",
       "    <tr>\n",
       "      <th>0</th>\n",
       "      <td>E-book</td>\n",
       "      <td>2000</td>\n",
       "      <td>800</td>\n",
       "    </tr>\n",
       "    <tr>\n",
       "      <th>1</th>\n",
       "      <td>Plants</td>\n",
       "      <td>5000</td>\n",
       "      <td>200</td>\n",
       "    </tr>\n",
       "  </tbody>\n",
       "</table>\n",
       "</div>"
      ],
      "text/plain": [
       "  product  unit_sold  types\n",
       "0  E-book       2000    800\n",
       "1  Plants       5000    200"
      ]
     },
     "execution_count": 51,
     "metadata": {},
     "output_type": "execute_result"
    }
   ],
   "source": [
    "product_df = pd.DataFrame(data={'product': ['E-book', 'Plants'],\n",
    "                                'unit_sold': [2000, 5000],\n",
    "                                'types': [800, 200]})\n",
    "product_df"
   ]
  },
  {
   "attachments": {},
   "cell_type": "markdown",
   "metadata": {},
   "source": [
    "## Data Storage"
   ]
  },
  {
   "cell_type": "code",
   "execution_count": 52,
   "metadata": {},
   "outputs": [],
   "source": [
    "product_df = pd.DataFrame(data={'product': ['E-book', 'Plants'],\n",
    "                        'unit_sold': [2000, 5000],\n",
    "                        'types': [800, 200]})\n",
    "product_df.to_csv('aa.csv',\n",
    "                  index=False, # otherwise will add extra comma at start\n",
    "                  sep=',',\n",
    "                  encoding='utf-8')"
   ]
  }
 ],
 "metadata": {
  "kernelspec": {
   "display_name": "Python 3",
   "language": "python",
   "name": "python3"
  },
  "language_info": {
   "codemirror_mode": {
    "name": "ipython",
    "version": 3
   },
   "file_extension": ".py",
   "mimetype": "text/x-python",
   "name": "python",
   "nbconvert_exporter": "python",
   "pygments_lexer": "ipython3",
   "version": "3.9.6"
  },
  "orig_nbformat": 4
 },
 "nbformat": 4,
 "nbformat_minor": 2
}
